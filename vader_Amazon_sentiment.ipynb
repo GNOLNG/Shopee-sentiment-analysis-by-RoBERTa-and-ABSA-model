{
  "nbformat": 4,
  "nbformat_minor": 0,
  "metadata": {
    "colab": {
      "provenance": [],
      "authorship_tag": "ABX9TyOMR7/dHKy4PaVhuD4fQ1UC",
      "include_colab_link": true
    },
    "kernelspec": {
      "name": "python3",
      "display_name": "Python 3"
    },
    "language_info": {
      "name": "python"
    }
  },
  "cells": [
    {
      "cell_type": "markdown",
      "metadata": {
        "id": "view-in-github",
        "colab_type": "text"
      },
      "source": [
        "<a href=\"https://colab.research.google.com/github/GNOLNG/Shopee-sentiment-analysis-by-RoBERTa-and-ABSA-model/blob/main/vader_Amazon_sentiment.ipynb\" target=\"_parent\"><img src=\"https://colab.research.google.com/assets/colab-badge.svg\" alt=\"Open In Colab\"/></a>"
      ]
    },
    {
      "cell_type": "code",
      "execution_count": null,
      "metadata": {
        "id": "mmpyvqNyKEIP"
      },
      "outputs": [],
      "source": [
        "from google.colab import drive\n",
        "drive.mount('/content/drive')"
      ]
    },
    {
      "cell_type": "markdown",
      "source": [
        "1. vader model limitation illustration"
      ],
      "metadata": {
        "id": "QFEVAe00saEi"
      }
    },
    {
      "cell_type": "code",
      "source": [
        "import pandas as pd\n",
        "import numpy as np\n",
        "import matplotlib.pyplot as plt\n",
        "import seaborn as sns\n",
        "import nltk\n",
        "nltk.download('punkt')\n",
        "nltk.download('averaged_perceptron_tagger')\n",
        "nltk.download('maxent_ne_chunker')\n",
        "nltk.download('words')\n",
        "nltk.download('vader_lexicon')"
      ],
      "metadata": {
        "id": "O1tBD8BOMhOz"
      },
      "execution_count": null,
      "outputs": []
    },
    {
      "cell_type": "code",
      "source": [
        "from nltk.sentiment import SentimentIntensityAnalyzer\n",
        "from tqdm.notebook import tqdm\n",
        "\n",
        "sia = SentimentIntensityAnalyzer()"
      ],
      "metadata": {
        "id": "kFfYGvI0M82M"
      },
      "execution_count": null,
      "outputs": []
    },
    {
      "cell_type": "code",
      "source": [
        "def vader_sentiment(sentence):\n",
        "  obj = sia.polarity_scores(sentence)\n",
        "  return obj.get('neg'),obj.get('neu'),obj.get('pos'),obj.get('compound')"
      ],
      "metadata": {
        "id": "LpIuNz6qF8wB"
      },
      "execution_count": null,
      "outputs": []
    },
    {
      "cell_type": "code",
      "source": [
        "###by pre-processed data\n",
        "import pandas as pd\n",
        "\n",
        "input_file_path = f'/content/drive/MyDrive/RoBERTa_ABSA_dir/{companyName}_preprocessed.csv'\n",
        "data = pd.read_csv(input_file_path)\n",
        "data = data.dropna(subset=['converted_comment']) #filter out empty comments\n",
        "data['neg'],data['neu'],data['pos'],data['compound'] = zip(*data['converted_comment'].apply(vader_sentiment))\n",
        "\n",
        "output_file_path = f'/content/drive/MyDrive/RoBERTa_ABSA_dir/{companyName}_vader.csv'\n",
        "data.to_csv(output_file_path, index=False)"
      ],
      "metadata": {
        "id": "G3WhanSmCghN"
      },
      "execution_count": null,
      "outputs": []
    },
    {
      "cell_type": "markdown",
      "source": [
        "2.amazon review sentiment analysis pipeline model limitation illustration"
      ],
      "metadata": {
        "id": "YR2vmeoEsnGE"
      }
    },
    {
      "cell_type": "code",
      "source": [
        "!pip install transformers"
      ],
      "metadata": {
        "id": "ez5wj0s4rwha"
      },
      "execution_count": null,
      "outputs": []
    },
    {
      "cell_type": "code",
      "source": [
        "from transformers import pipeline\n",
        "# Using a specific model for sentiment analysis\n",
        "specific_model = pipeline(\"sentiment-analysis\", model=\"LiYuan/amazon-review-sentiment-analysis\", device=0)\n",
        "\n",
        "def AWS_sentiment(sentence):\n",
        "  try:\n",
        "    result = specific_model(sentence)\n",
        "    print(result)\n",
        "    return result[0][\"label\"],result[0][\"score\"]\n",
        "  except Exception as e:\n",
        "    print(f\"Error occurred while processing {sentence}: {str(e)}\")\n",
        "    return \"error\",0"
      ],
      "metadata": {
        "id": "Cv7eB1FmryI3"
      },
      "execution_count": null,
      "outputs": []
    },
    {
      "cell_type": "code",
      "source": [
        "input_file_path = f'/content/drive/MyDrive/RoBERTa_ABSA_dir/{companyName}_preprocessed.csv'\n",
        "data = pd.read_csv(input_file_path)\n",
        "data = data.dropna(subset=['converted_comment']) #filter out empty comments\n",
        "data['label'],data['score'] = zip(*data['converted_comment'].apply(AWS_sentiment))\n",
        "\n",
        "output_file_path = f'/content/drive/MyDrive/RoBERTa_ABSA_dir/{companyName}_Amazon_pipeline.csv'\n",
        "data.to_csv(output_file_path, index=False)"
      ],
      "metadata": {
        "id": "JT_LGMjAsI9n"
      },
      "execution_count": null,
      "outputs": []
    }
  ]
}